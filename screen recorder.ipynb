{
 "cells": [
  {
   "cell_type": "code",
   "execution_count": null,
   "id": "273d7089",
   "metadata": {},
   "outputs": [
    {
     "name": "stdout",
     "output_type": "stream",
     "text": [
      "Requirement already satisfied: pyautogui in c:\\users\\dell\\anaconda3\\lib\\site-packages (0.9.53)\n",
      "Requirement already satisfied: pygetwindow>=0.0.5 in c:\\users\\dell\\anaconda3\\lib\\site-packages (from pyautogui) (0.0.9)\n",
      "Requirement already satisfied: mouseinfo in c:\\users\\dell\\anaconda3\\lib\\site-packages (from pyautogui) (0.1.3)\n",
      "Requirement already satisfied: pyscreeze>=0.1.21 in c:\\users\\dell\\anaconda3\\lib\\site-packages (from pyautogui) (0.1.28)\n",
      "Requirement already satisfied: pymsgbox in c:\\users\\dell\\anaconda3\\lib\\site-packages (from pyautogui) (1.0.9)\n",
      "Requirement already satisfied: PyTweening>=1.0.1 in c:\\users\\dell\\anaconda3\\lib\\site-packages (from pyautogui) (1.0.4)\n",
      "Requirement already satisfied: pyrect in c:\\users\\dell\\anaconda3\\lib\\site-packages (from pygetwindow>=0.0.5->pyautogui) (0.1.4)\n",
      "Requirement already satisfied: Pillow>=6.2.1 in c:\\users\\dell\\anaconda3\\lib\\site-packages (from pyscreeze>=0.1.21->pyautogui) (8.2.0)\n",
      "Requirement already satisfied: pyperclip in c:\\users\\dell\\anaconda3\\lib\\site-packages (from mouseinfo->pyautogui) (1.8.2)\n",
      "Note: you may need to restart the kernel to use updated packages.\n"
     ]
    }
   ],
   "source": [
    "pip install pyautogui"
   ]
  },
  {
   "cell_type": "code",
   "execution_count": null,
   "id": "8cf10e97",
   "metadata": {},
   "outputs": [
    {
     "name": "stdout",
     "output_type": "stream",
     "text": [
      "Requirement already satisfied: opencv-python in c:\\users\\dell\\anaconda3\\lib\\site-packages (4.5.4.58)\n",
      "Requirement already satisfied: numpy>=1.17.3 in c:\\users\\dell\\anaconda3\\lib\\site-packages (from opencv-python) (1.20.1)\n",
      "Note: you may need to restart the kernel to use updated packages.\n"
     ]
    }
   ],
   "source": [
    "pip install opencv-python"
   ]
  },
  {
   "cell_type": "code",
   "execution_count": 1,
   "id": "965bd256",
   "metadata": {},
   "outputs": [],
   "source": [
    "\n",
    "# importing the required packages\n",
    "import pyautogui\n",
    "import cv2\n",
    "import numpy as np\n",
    "  \n",
    "# Specify resolution\n",
    "resolution = (1920, 1080)\n",
    "  \n",
    "# Specify video codec\n",
    "codec = cv2.VideoWriter_fourcc(*\"XVID\")\n",
    "  \n",
    "# Specify name of Output file\n",
    "filename = \"Recording.avi\"\n",
    "  \n",
    "# Specify frames rate. We can choose any \n",
    "# value and experiment with it\n",
    "fps = 60.0\n",
    "  \n",
    "  \n",
    "# Creating a VideoWriter object\n",
    "out = cv2.VideoWriter(filename, codec, fps, resolution)\n",
    "  \n",
    "# Create an Empty window\n",
    "cv2.namedWindow(\"Live\", cv2.WINDOW_NORMAL)\n",
    "  \n",
    "# Resize this window\n",
    "cv2.resizeWindow(\"Live\", 480, 270)\n",
    "  \n",
    "while True:\n",
    "    # Take screenshot using PyAutoGUI\n",
    "    img = pyautogui.screenshot()\n",
    "  \n",
    "    # Convert the screenshot to a numpy array\n",
    "    frame = np.array(img)\n",
    "  \n",
    "    # Convert it from BGR(Blue, Green, Red) to\n",
    "    # RGB(Red, Green, Blue)\n",
    "    frame = cv2.cvtColor(frame, cv2.COLOR_BGR2RGB)\n",
    "  \n",
    "    # Write it to the output file\n",
    "    out.write(frame)\n",
    "      \n",
    "    # Optional: Display the recording screen\n",
    "    cv2.imshow('Live', frame)\n",
    "      \n",
    "    # Stop recording when we press 'q'\n",
    "    if cv2.waitKey(1) == ord('q'):\n",
    "        break\n",
    "  \n",
    "# Release the Video writer\n",
    "out.release()\n",
    "  \n",
    "# Destroy all windows\n",
    "cv2.destroyAllWindows()"
   ]
  },
  {
   "cell_type": "code",
   "execution_count": null,
   "id": "35ac8a91",
   "metadata": {},
   "outputs": [],
   "source": []
  }
 ],
 "metadata": {
  "kernelspec": {
   "display_name": "Python 3",
   "language": "python",
   "name": "python3"
  },
  "language_info": {
   "codemirror_mode": {
    "name": "ipython",
    "version": 3
   },
   "file_extension": ".py",
   "mimetype": "text/x-python",
   "name": "python",
   "nbconvert_exporter": "python",
   "pygments_lexer": "ipython3",
   "version": "3.8.8"
  }
 },
 "nbformat": 4,
 "nbformat_minor": 5
}
